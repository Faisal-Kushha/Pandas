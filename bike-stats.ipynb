{
 "cells": [
  {
   "cell_type": "code",
   "execution_count": 51,
   "metadata": {},
   "outputs": [],
   "source": [
    "import numpy as np\n",
    "import pandas as pd"
   ]
  },
  {
   "cell_type": "markdown",
   "metadata": {},
   "source": [
    "Data Analysis with Pandas\n",
    "\n",
    "Oct 25th 2021\n",
    "\n",
    "Faisal Kushha\n",
    "\n",
    "Data from https://www.kaggle.com/pronto/cycle-share-dataset"
   ]
  },
  {
   "cell_type": "code",
   "execution_count": 52,
   "metadata": {},
   "outputs": [
    {
     "name": "stderr",
     "output_type": "stream",
     "text": [
      "/home/faisal/401d06/vg-stats/.venv/lib/python3.9/site-packages/IPython/core/interactiveshell.py:3444: FutureWarning: The error_bad_lines argument has been deprecated and will be removed in a future version.\n",
      "\n",
      "\n",
      "  exec(code_obj, self.user_global_ns, self.user_ns)\n",
      "b'Skipping line 50794: expected 12 fields, saw 20\\n'\n"
     ]
    },
    {
     "name": "stdout",
     "output_type": "stream",
     "text": [
      "        trip_id         starttime          stoptime    bikeid  tripduration  \\\n",
      "0           431  10/13/2014 10:31  10/13/2014 10:48  SEA00298       985.935   \n",
      "1           432  10/13/2014 10:32  10/13/2014 10:48  SEA00195       926.375   \n",
      "2           433  10/13/2014 10:33  10/13/2014 10:48  SEA00486       883.831   \n",
      "3           434  10/13/2014 10:34  10/13/2014 10:48  SEA00333       865.937   \n",
      "4           435  10/13/2014 10:34  10/13/2014 10:49  SEA00202       923.923   \n",
      "...         ...               ...               ...       ...           ...   \n",
      "286852   255241   8/31/2016 23:34   8/31/2016 23:45  SEA00201       679.532   \n",
      "286853   255242   8/31/2016 23:48     9/1/2016 0:20  SEA00247      1965.418   \n",
      "286854   255243   8/31/2016 23:47     9/1/2016 0:20  SEA00300      1951.173   \n",
      "286855   255244   8/31/2016 23:49     9/1/2016 0:20  SEA00047      1883.299   \n",
      "286856   255245   8/31/2016 23:49     9/1/2016 0:20  SEA00442      1896.031   \n",
      "\n",
      "                             from_station_name  \\\n",
      "0                          2nd Ave & Spring St   \n",
      "1                          2nd Ave & Spring St   \n",
      "2                          2nd Ave & Spring St   \n",
      "3                          2nd Ave & Spring St   \n",
      "4                          2nd Ave & Spring St   \n",
      "...                                        ...   \n",
      "286852                 Harvard Ave & E Pine St   \n",
      "286853  Cal Anderson Park / 11th Ave & Pine St   \n",
      "286854  Cal Anderson Park / 11th Ave & Pine St   \n",
      "286855  Cal Anderson Park / 11th Ave & Pine St   \n",
      "286856  Cal Anderson Park / 11th Ave & Pine St   \n",
      "\n",
      "                                          to_station_name from_station_id  \\\n",
      "0       Occidental Park / Occidental Ave S & S Washing...          CBD-06   \n",
      "1       Occidental Park / Occidental Ave S & S Washing...          CBD-06   \n",
      "2       Occidental Park / Occidental Ave S & S Washing...          CBD-06   \n",
      "3       Occidental Park / Occidental Ave S & S Washing...          CBD-06   \n",
      "4       Occidental Park / Occidental Ave S & S Washing...          CBD-06   \n",
      "...                                                   ...             ...   \n",
      "286852                                2nd Ave & Spring St           CH-09   \n",
      "286853                              6th Ave S & S King St           CH-08   \n",
      "286854                              6th Ave S & S King St           CH-08   \n",
      "286855                              6th Ave S & S King St           CH-08   \n",
      "286856                              6th Ave S & S King St           CH-08   \n",
      "\n",
      "       to_station_id                usertype  gender  birthyear  \n",
      "0              PS-04                  Member    Male     1960.0  \n",
      "1              PS-04                  Member    Male     1970.0  \n",
      "2              PS-04                  Member  Female     1988.0  \n",
      "3              PS-04                  Member  Female     1977.0  \n",
      "4              PS-04                  Member    Male     1971.0  \n",
      "...              ...                     ...     ...        ...  \n",
      "286852        CBD-06  Short-Term Pass Holder     NaN        NaN  \n",
      "286853         ID-04  Short-Term Pass Holder     NaN        NaN  \n",
      "286854         ID-04  Short-Term Pass Holder     NaN        NaN  \n",
      "286855         ID-04  Short-Term Pass Holder     NaN        NaN  \n",
      "286856         ID-04  Short-Term Pass Holder     NaN        NaN  \n",
      "\n",
      "[286857 rows x 12 columns]\n",
      "   station_id                                               name        lat  \\\n",
      "0       BT-01                                 3rd Ave & Broad St  47.618418   \n",
      "1       BT-03                                  2nd Ave & Vine St  47.615829   \n",
      "2       BT-04                             6th Ave & Blanchard St  47.616094   \n",
      "3       BT-05                             2nd Ave & Blanchard St  47.613110   \n",
      "4      CBD-03                                 7th Ave & Union St  47.610731   \n",
      "5      CBD-04                                 Union St & 4th Ave  47.609221   \n",
      "6      CBD-05                                1st Ave & Marion St  47.604058   \n",
      "7      CBD-06                                2nd Ave & Spring St  47.605950   \n",
      "8      CBD-07                     City Hall / 4th Ave & James St  47.603509   \n",
      "9      CBD-13                                  2nd Ave & Pine St  47.610185   \n",
      "10      CD-01                            12th Ave & E Yesler Way  47.602103   \n",
      "11      CH-01                           Summit Ave & E Denny Way  47.618633   \n",
      "12      CH-02                     E Harrison St & Broadway Ave E  47.622063   \n",
      "13      CH-03                     Summit Ave E & E Republican St  47.623367   \n",
      "14      CH-05                           15th Ave E & E Thomas St  47.620712   \n",
      "15      CH-06                             12th Ave & E Denny Way  47.618549   \n",
      "16      CH-07                               E Pine St & 16th Ave  47.615330   \n",
      "17      CH-08             Cal Anderson Park / 11th Ave & Pine St  47.615486   \n",
      "18      CH-09                            Harvard Ave & E Pine St  47.615517   \n",
      "19      CH-12                           Bellevue Ave & E Pine St  47.615456   \n",
      "20      CH-15                             12th Ave & E Mercer St  47.624142   \n",
      "21     DPD-01                              9th Ave N & Mercer St  47.624298   \n",
      "22     DPD-03  Children's Hospital / Sandpoint Way NE & 40th ...  47.663509   \n",
      "23      EL-01  Fred Hutchinson Cancer Research Center / Fairv...  47.627643   \n",
      "24      EL-03                       E Blaine St & Fairview Ave E  47.634831   \n",
      "25      EL-05                      Eastlake Ave E & E Allison St  47.649090   \n",
      "26      FH-01          Frye Art Museum / Terry Ave & Columbia St  47.607281   \n",
      "27      FH-04      Seattle University / E Columbia St & 12th Ave  47.609239   \n",
      "28      ID-04                              6th Ave S & S King St  47.598488   \n",
      "29      PS-04  Occidental Park / Occidental Ave S & S Washing...  47.600757   \n",
      "30      PS-05  King Street Station Plaza / 2nd Ave Extension ...  47.598994   \n",
      "31     SLU-01                         REI / Yale Ave N & John St  47.619859   \n",
      "32     SLU-02                            Dexter Ave N & Aloha St  47.627735   \n",
      "33     SLU-04                     Republican St & Westlake Ave N  47.623165   \n",
      "34     SLU-07                      PATH / 9th Ave & Westlake Ave  47.618320   \n",
      "35     SLU-15                             Westlake Ave & 6th Ave  47.613628   \n",
      "36     SLU-16                                  Pine St & 9th Ave  47.613715   \n",
      "37     SLU-17          Lake Union Park / Valley St & Boren Ave N  47.626041   \n",
      "38     SLU-18                             Dexter Ave & Denny Way  47.618285   \n",
      "39     SLU-19                Key Arena / 1st Ave N & Harrison St  47.622277   \n",
      "40     SLU-20                             Terry Ave & Stewart St  47.616260   \n",
      "41     SLU-21                              Mercer St & 9th Ave N  47.624769   \n",
      "42      UD-01  Burke-Gilman Trail / NE Blakeley St & 24th Ave NE  47.666145   \n",
      "43      UD-02                     NE 42nd St & University Way NE  47.658288   \n",
      "44      UD-04                          12th Ave & NE Campus Pkwy  47.656395   \n",
      "45      UD-07                           NE 47th St & 12th Ave NE  47.663143   \n",
      "46      UW-01                       UW McCarty Hall / Whitman Ct  47.660268   \n",
      "47      UW-02  Burke Museum / E Stevens Way NE & Memorial Way NE  47.659756   \n",
      "48      UW-04                           15th Ave NE & NE 40th St  47.655590   \n",
      "49      UW-06  UW Engineering Library / E Stevens Way NE & Je...  47.654613   \n",
      "50      UW-07                  UW Intramural Activities Building  47.653713   \n",
      "51      UW-10  UW Magnuson Health Sciences Center Rotunda / C...  47.650725   \n",
      "52      WF-01                    Pier 69 / Alaskan Way & Clay St  47.614315   \n",
      "53      WF-04  Seattle Aquarium / Alaskan Way S & Elliott Bay...  47.607702   \n",
      "54      CH-16                           Broadway and E Denny Way  47.618640   \n",
      "55     SLU-22                              Thomas St & 5th Ave N  47.620879   \n",
      "56      UW-11                    NE Pacific St/UW Medical Center  47.649952   \n",
      "57      WF-03                    Pier 66 / Alaskan Way & Bell St  47.611370   \n",
      "\n",
      "          long install_date  install_dockcount modification_date  \\\n",
      "0  -122.350964   10/13/2014                 18               NaN   \n",
      "1  -122.348564   10/13/2014                 16               NaN   \n",
      "2  -122.341102   10/13/2014                 16               NaN   \n",
      "3  -122.344208   10/13/2014                 14               NaN   \n",
      "4  -122.332447   10/13/2014                 20               NaN   \n",
      "5  -122.335596    7/27/2015                 18               NaN   \n",
      "6  -122.335800   10/13/2014                 20               NaN   \n",
      "7  -122.335768   10/13/2014                 20         11/9/2015   \n",
      "8  -122.330409   10/13/2014                 20               NaN   \n",
      "9  -122.339641   10/13/2014                 18               NaN   \n",
      "10 -122.316923    5/22/2015                 16          8/9/2016   \n",
      "11 -122.325249   10/13/2014                 16               NaN   \n",
      "12 -122.321251   10/13/2014                 18         2/24/2015   \n",
      "13 -122.325279   10/13/2014                 16               NaN   \n",
      "14 -122.312805   10/13/2014                 16               NaN   \n",
      "15 -122.317017   10/13/2014                 16               NaN   \n",
      "16 -122.311752   10/13/2014                 18               NaN   \n",
      "17 -122.318245   10/13/2014                 28         2/24/2015   \n",
      "18 -122.322083   10/13/2014                 16               NaN   \n",
      "19 -122.326729   10/13/2014                 18               NaN   \n",
      "20 -122.316811   10/13/2014                 16               NaN   \n",
      "21 -122.339617   10/13/2014                 18               NaN   \n",
      "22 -122.284119   10/13/2014                 30         3/24/2015   \n",
      "23 -122.332576   10/13/2014                 12         3/27/2015   \n",
      "24 -122.326634   10/13/2014                 18               NaN   \n",
      "25 -122.322983   10/13/2014                 18               NaN   \n",
      "26 -122.324783   10/13/2014                 16         3/18/2016   \n",
      "27 -122.316651   10/13/2014                 20               NaN   \n",
      "28 -122.326412   10/13/2014                 16               NaN   \n",
      "29 -122.332946   10/13/2014                 18               NaN   \n",
      "30 -122.329684   10/13/2014                 18               NaN   \n",
      "31 -122.330304   10/13/2014                 18         2/24/2015   \n",
      "32 -122.342232   10/13/2014                 18               NaN   \n",
      "33 -122.338203   10/13/2014                 18               NaN   \n",
      "34 -122.338913   10/13/2014                 18               NaN   \n",
      "35 -122.337341   10/13/2014                 12         3/13/2015   \n",
      "36 -122.331777   10/13/2014                 20               NaN   \n",
      "37 -122.335831   10/13/2014                 18         2/23/2015   \n",
      "38 -122.342205   10/13/2014                 20         11/2/2015   \n",
      "39 -122.355230   10/13/2014                 12          3/4/2015   \n",
      "40 -122.333815    6/12/2015                 20               NaN   \n",
      "41 -122.339408    9/15/2015                 20               NaN   \n",
      "42 -122.301491   10/13/2014                 18               NaN   \n",
      "43 -122.313334   10/13/2014                 18               NaN   \n",
      "44 -122.315620   10/13/2014                 16               NaN   \n",
      "45 -122.315086   10/13/2014                 16               NaN   \n",
      "46 -122.304826   10/13/2014                 16        10/29/2015   \n",
      "47 -122.310402   10/13/2014                 12         2/20/2015   \n",
      "48 -122.311890   10/13/2014                 18         2/20/2015   \n",
      "49 -122.304863   10/13/2014                 12         2/20/2015   \n",
      "50 -122.302162   10/13/2014                 20         2/20/2015   \n",
      "51 -122.311188   10/13/2014                 16               NaN   \n",
      "52 -122.354093   10/13/2014                 18               NaN   \n",
      "53 -122.341650   10/13/2014                 18               NaN   \n",
      "54 -122.320777    3/18/2016                 18               NaN   \n",
      "55 -122.347377     7/3/2016                 18               NaN   \n",
      "56 -122.306263   10/29/2015                 16               NaN   \n",
      "57 -122.348702     8/9/2016                 18               NaN   \n",
      "\n",
      "    current_dockcount decommission_date  \n",
      "0                  18               NaN  \n",
      "1                  16               NaN  \n",
      "2                  16               NaN  \n",
      "3                  14               NaN  \n",
      "4                  20               NaN  \n",
      "5                  18               NaN  \n",
      "6                  20               NaN  \n",
      "7                  18               NaN  \n",
      "8                  20               NaN  \n",
      "9                  18               NaN  \n",
      "10                  0          8/9/2016  \n",
      "11                 16               NaN  \n",
      "12                 20               NaN  \n",
      "13                 16               NaN  \n",
      "14                 16               NaN  \n",
      "15                 16               NaN  \n",
      "16                 18               NaN  \n",
      "17                 26               NaN  \n",
      "18                 16               NaN  \n",
      "19                 14               NaN  \n",
      "20                 16               NaN  \n",
      "21                 18               NaN  \n",
      "22                 24               NaN  \n",
      "23                 16               NaN  \n",
      "24                 18               NaN  \n",
      "25                 18               NaN  \n",
      "26                  0         3/18/2016  \n",
      "27                 20               NaN  \n",
      "28                 16               NaN  \n",
      "29                 18               NaN  \n",
      "30                 18               NaN  \n",
      "31                 20               NaN  \n",
      "32                 18               NaN  \n",
      "33                 18               NaN  \n",
      "34                 18               NaN  \n",
      "35                 20               NaN  \n",
      "36                 20               NaN  \n",
      "37                 16               NaN  \n",
      "38                  0          7/2/2016  \n",
      "39                 16               NaN  \n",
      "40                 20               NaN  \n",
      "41                 20               NaN  \n",
      "42                 18               NaN  \n",
      "43                 18               NaN  \n",
      "44                 16               NaN  \n",
      "45                 16               NaN  \n",
      "46                  0        10/29/2015  \n",
      "47                 14               NaN  \n",
      "48                 16               NaN  \n",
      "49                 14               NaN  \n",
      "50                 14               NaN  \n",
      "51                 16               NaN  \n",
      "52                 24               NaN  \n",
      "53                 18               NaN  \n",
      "54                 18               NaN  \n",
      "55                 18               NaN  \n",
      "56                 16               NaN  \n",
      "57                 18               NaN  \n",
      "           Date  Max_Temperature_F  Mean_Temperature_F  Min_TemperatureF  \\\n",
      "0    10/13/2014                 71                62.0                54   \n",
      "1    10/14/2014                 63                59.0                55   \n",
      "2    10/15/2014                 62                58.0                54   \n",
      "3    10/16/2014                 71                61.0                52   \n",
      "4    10/17/2014                 64                60.0                57   \n",
      "..          ...                ...                 ...               ...   \n",
      "684   8/27/2016                 72                66.0                61   \n",
      "685   8/28/2016                 75                68.0                59   \n",
      "686   8/29/2016                 81                68.0                55   \n",
      "687   8/30/2016                 70                64.0                57   \n",
      "688   8/31/2016                 71                65.0                59   \n",
      "\n",
      "     Max_Dew_Point_F  MeanDew_Point_F  Min_Dewpoint_F  Max_Humidity  \\\n",
      "0                 55               51              46            87   \n",
      "1                 52               51              50            88   \n",
      "2                 53               50              46            87   \n",
      "3                 49               46              42            83   \n",
      "4                 55               51              41            87   \n",
      "..               ...              ...             ...           ...   \n",
      "684               57               54              50            81   \n",
      "685               54               52              50            80   \n",
      "686               55               53              50            89   \n",
      "687               55               53              52            83   \n",
      "688               61               56              52            90   \n",
      "\n",
      "     Mean_Humidity  Min_Humidity  ...  Mean_Sea_Level_Pressure_In  \\\n",
      "0               68            46  ...                       29.79   \n",
      "1               78            63  ...                       29.75   \n",
      "2               77            67  ...                       29.71   \n",
      "3               61            36  ...                       29.95   \n",
      "4               72            46  ...                       29.78   \n",
      "..             ...           ...  ...                         ...   \n",
      "684             65            46  ...                       29.88   \n",
      "685             65            44  ...                       30.06   \n",
      "686             65            39  ...                       30.02   \n",
      "687             69            53  ...                       30.01   \n",
      "688             77            63  ...                       29.97   \n",
      "\n",
      "     Min_Sea_Level_Pressure_In  Max_Visibility_Miles  Mean_Visibility_Miles  \\\n",
      "0                        29.65                    10                     10   \n",
      "1                        29.54                    10                      9   \n",
      "2                        29.51                    10                      9   \n",
      "3                        29.81                    10                     10   \n",
      "4                        29.73                    10                     10   \n",
      "..                         ...                   ...                    ...   \n",
      "684                      29.77                    10                     10   \n",
      "685                      30.01                    10                     10   \n",
      "686                      29.95                    10                     10   \n",
      "687                      29.97                    10                     10   \n",
      "688                      29.96                    10                     10   \n",
      "\n",
      "     Min_Visibility_Miles  Max_Wind_Speed_MPH  Mean_Wind_Speed_MPH  \\\n",
      "0                       4                  13                    4   \n",
      "1                       3                  10                    5   \n",
      "2                       3                  18                    7   \n",
      "3                      10                   9                    4   \n",
      "4                       6                   8                    3   \n",
      "..                    ...                 ...                  ...   \n",
      "684                    10                  16                    9   \n",
      "685                    10                  12                    9   \n",
      "686                     6                   9                    4   \n",
      "687                    10                  14                    9   \n",
      "688                     8                  14                    8   \n",
      "\n",
      "     Max_Gust_Speed_MPH Precipitation_In  Events  \n",
      "0                    21             0.00    Rain  \n",
      "1                    17             0.11    Rain  \n",
      "2                    25             0.45    Rain  \n",
      "3                     -             0.00    Rain  \n",
      "4                     -             0.14    Rain  \n",
      "..                  ...              ...     ...  \n",
      "684                 NaN             0.00     NaN  \n",
      "685                 NaN             0.00     NaN  \n",
      "686                 NaN             0.00     NaN  \n",
      "687                  18             0.00     NaN  \n",
      "688                 NaN             0.00    Rain  \n",
      "\n",
      "[689 rows x 21 columns]\n",
      "<class 'pandas.core.frame.DataFrame'>\n",
      "RangeIndex: 286857 entries, 0 to 286856\n",
      "Data columns (total 12 columns):\n",
      " #   Column             Non-Null Count   Dtype  \n",
      "---  ------             --------------   -----  \n",
      " 0   trip_id            286857 non-null  int64  \n",
      " 1   starttime          286857 non-null  object \n",
      " 2   stoptime           286857 non-null  object \n",
      " 3   bikeid             286857 non-null  object \n",
      " 4   tripduration       286857 non-null  float64\n",
      " 5   from_station_name  286857 non-null  object \n",
      " 6   to_station_name    286857 non-null  object \n",
      " 7   from_station_id    286857 non-null  object \n",
      " 8   to_station_id      286857 non-null  object \n",
      " 9   usertype           286857 non-null  object \n",
      " 10  gender             181557 non-null  object \n",
      " 11  birthyear          181553 non-null  float64\n",
      "dtypes: float64(2), int64(1), object(9)\n",
      "memory usage: 26.3+ MB\n",
      "<class 'pandas.core.frame.DataFrame'>\n",
      "RangeIndex: 58 entries, 0 to 57\n",
      "Data columns (total 9 columns):\n",
      " #   Column             Non-Null Count  Dtype  \n",
      "---  ------             --------------  -----  \n",
      " 0   station_id         58 non-null     object \n",
      " 1   name               58 non-null     object \n",
      " 2   lat                58 non-null     float64\n",
      " 3   long               58 non-null     float64\n",
      " 4   install_date       58 non-null     object \n",
      " 5   install_dockcount  58 non-null     int64  \n",
      " 6   modification_date  17 non-null     object \n",
      " 7   current_dockcount  58 non-null     int64  \n",
      " 8   decommission_date  4 non-null      object \n",
      "dtypes: float64(2), int64(2), object(5)\n",
      "memory usage: 4.2+ KB\n",
      "<class 'pandas.core.frame.DataFrame'>\n",
      "RangeIndex: 689 entries, 0 to 688\n",
      "Data columns (total 21 columns):\n",
      " #   Column                      Non-Null Count  Dtype  \n",
      "---  ------                      --------------  -----  \n",
      " 0   Date                        689 non-null    object \n",
      " 1   Max_Temperature_F           689 non-null    int64  \n",
      " 2   Mean_Temperature_F          688 non-null    float64\n",
      " 3   Min_TemperatureF            689 non-null    int64  \n",
      " 4   Max_Dew_Point_F             689 non-null    int64  \n",
      " 5   MeanDew_Point_F             689 non-null    int64  \n",
      " 6   Min_Dewpoint_F              689 non-null    int64  \n",
      " 7   Max_Humidity                689 non-null    int64  \n",
      " 8   Mean_Humidity               689 non-null    int64  \n",
      " 9   Min_Humidity                689 non-null    int64  \n",
      " 10  Max_Sea_Level_Pressure_In   689 non-null    float64\n",
      " 11  Mean_Sea_Level_Pressure_In  689 non-null    float64\n",
      " 12  Min_Sea_Level_Pressure_In   689 non-null    float64\n",
      " 13  Max_Visibility_Miles        689 non-null    int64  \n",
      " 14  Mean_Visibility_Miles       689 non-null    int64  \n",
      " 15  Min_Visibility_Miles        689 non-null    int64  \n",
      " 16  Max_Wind_Speed_MPH          689 non-null    int64  \n",
      " 17  Mean_Wind_Speed_MPH         689 non-null    int64  \n",
      " 18  Max_Gust_Speed_MPH          504 non-null    object \n",
      " 19  Precipitation_In            689 non-null    float64\n",
      " 20  Events                      328 non-null    object \n",
      "dtypes: float64(5), int64(13), object(3)\n",
      "memory usage: 113.2+ KB\n"
     ]
    }
   ],
   "source": [
    "df_trip = pd.read_csv('./trip.csv', error_bad_lines=False)\n",
    "df_station = pd.read_csv('./station.csv')\n",
    "df_weather = pd.read_csv('./weather.csv')\n",
    "print(df_trip)\n",
    "print(df_station)\n",
    "print(df_weather)\n",
    "df_trip.info()\n",
    "df_station.info()\n",
    "df_weather.info()"
   ]
  },
  {
   "cell_type": "markdown",
   "metadata": {},
   "source": [
    "What is the average trip duration for a borrowed bicycle?"
   ]
  },
  {
   "cell_type": "code",
   "execution_count": 53,
   "metadata": {},
   "outputs": [
    {
     "data": {
      "text/plain": [
       "1178.2956753399776"
      ]
     },
     "execution_count": 53,
     "metadata": {},
     "output_type": "execute_result"
    }
   ],
   "source": [
    "trip_average = df_trip['tripduration'].mean()\n",
    "trip_average"
   ]
  },
  {
   "cell_type": "markdown",
   "metadata": {},
   "source": [
    "What’s the most common age of a bicycle-sharer?"
   ]
  },
  {
   "cell_type": "code",
   "execution_count": 54,
   "metadata": {},
   "outputs": [
    {
     "data": {
      "text/plain": [
       "34.0"
      ]
     },
     "execution_count": 54,
     "metadata": {},
     "output_type": "execute_result"
    }
   ],
   "source": [
    "most_common_age = 2021 - df_trip['birthyear'].mode()[0]\n",
    "most_common_age"
   ]
  },
  {
   "cell_type": "markdown",
   "metadata": {},
   "source": [
    "Given all the weather data here, find the average precipitation per month, and the median precipitation."
   ]
  },
  {
   "cell_type": "code",
   "execution_count": 55,
   "metadata": {},
   "outputs": [
    {
     "data": {
      "text/plain": [
       "(3.1519593613933234, 0.0)"
      ]
     },
     "execution_count": 55,
     "metadata": {},
     "output_type": "execute_result"
    }
   ],
   "source": [
    "\n",
    "monthly_precipitation = df_weather['Precipitation_In'].mean()*30\n",
    "median_precipitation = df_weather['Precipitation_In'].median()\n",
    "precipitation = (monthly_precipitation, median_precipitation)\n",
    "precipitation"
   ]
  },
  {
   "cell_type": "markdown",
   "metadata": {},
   "source": [
    "What’s the average number of bikes at a given bike station?"
   ]
  },
  {
   "cell_type": "code",
   "execution_count": 56,
   "metadata": {},
   "outputs": [
    {
     "data": {
      "text/plain": [
       "17.586206896551722"
      ]
     },
     "execution_count": 56,
     "metadata": {},
     "output_type": "execute_result"
    }
   ],
   "source": [
    "bikes_average_number = df_station['install_dockcount'].mean()\n",
    "bikes_average_number"
   ]
  },
  {
   "cell_type": "markdown",
   "metadata": {},
   "source": [
    "When a bike station is modified, is it more likely that it’ll lose bikes or gain bikes? How do you know?"
   ]
  },
  {
   "cell_type": "code",
   "execution_count": 57,
   "metadata": {},
   "outputs": [
    {
     "name": "stdout",
     "output_type": "stream",
     "text": [
      "Lose\n"
     ]
    },
    {
     "data": {
      "text/plain": [
       "-68"
      ]
     },
     "execution_count": 57,
     "metadata": {},
     "output_type": "execute_result"
    }
   ],
   "source": [
    "remove_null_value = df_station.dropna()\n",
    "modified_station = remove_null_value['current_dockcount'].sum() - remove_null_value['install_dockcount'].sum()\n",
    "\n",
    "if modified_station > 0:\n",
    "    print('Gain')\n",
    "else:\n",
    "    print('Lose')\n",
    "modified_station"
   ]
  },
  {
   "cell_type": "markdown",
   "metadata": {},
   "source": [
    "What is the average Max Wind Speed MPH?"
   ]
  },
  {
   "cell_type": "code",
   "execution_count": 58,
   "metadata": {},
   "outputs": [
    {
     "data": {
      "text/plain": [
       "11.085631349782293"
      ]
     },
     "execution_count": 58,
     "metadata": {},
     "output_type": "execute_result"
    }
   ],
   "source": [
    "wind_speed = df_weather['Max_Wind_Speed_MPH'].mean()\n",
    "wind_speed"
   ]
  },
  {
   "cell_type": "markdown",
   "metadata": {},
   "source": [
    "What is the Max Tempreture?"
   ]
  },
  {
   "cell_type": "code",
   "execution_count": 59,
   "metadata": {},
   "outputs": [
    {
     "data": {
      "text/plain": [
       "98"
      ]
     },
     "execution_count": 59,
     "metadata": {},
     "output_type": "execute_result"
    }
   ],
   "source": [
    "max_tempreture = df_weather['Max_Temperature_F'].max()\n",
    "max_tempreture"
   ]
  },
  {
   "cell_type": "markdown",
   "metadata": {},
   "source": [
    "What is the Min Tempreture?\n"
   ]
  },
  {
   "cell_type": "code",
   "execution_count": 60,
   "metadata": {},
   "outputs": [
    {
     "data": {
      "text/plain": [
       "23"
      ]
     },
     "execution_count": 60,
     "metadata": {},
     "output_type": "execute_result"
    }
   ],
   "source": [
    "min_tempreture = df_weather['Min_TemperatureF'].min()\n",
    "min_tempreture"
   ]
  },
  {
   "cell_type": "markdown",
   "metadata": {},
   "source": [
    "Tests"
   ]
  },
  {
   "cell_type": "code",
   "execution_count": 61,
   "metadata": {},
   "outputs": [
    {
     "name": "stdout",
     "output_type": "stream",
     "text": [
      "Success!!!\n"
     ]
    }
   ],
   "source": [
    "def test():\n",
    "\n",
    "    def assert_equal(actual,expected):\n",
    "        assert actual == expected, f\"Expected {expected} but got {actual}\"\n",
    "\n",
    "    assert_equal(trip_average, 1178.2956753399776)\n",
    "    assert_equal(most_common_age, 34.0)\n",
    "    assert_equal(precipitation, (3.1519593613933234, 0.0))\n",
    "    assert_equal(bikes_average_number, 17.586206896551722)\n",
    "    assert_equal(modified_station, -68)\n",
    "    assert_equal(wind_speed, 11.085631349782293)\n",
    "    assert_equal(max_tempreture, 98)\n",
    "    assert_equal(min_tempreture, 23)\n",
    "\n",
    "    print(\"Success!!!\")\n",
    "\n",
    "test()"
   ]
  }
 ],
 "metadata": {
  "interpreter": {
   "hash": "47e1183551edb29d64c8459518b548bdc8b99bf6cba6f3e69daf998d207be210"
  },
  "kernelspec": {
   "display_name": "Python 3.9.5 64-bit ('.venv': poetry)",
   "name": "python3"
  },
  "language_info": {
   "codemirror_mode": {
    "name": "ipython",
    "version": 3
   },
   "file_extension": ".py",
   "mimetype": "text/x-python",
   "name": "python",
   "nbconvert_exporter": "python",
   "pygments_lexer": "ipython3",
   "version": "3.9.5"
  },
  "orig_nbformat": 4
 },
 "nbformat": 4,
 "nbformat_minor": 2
}
